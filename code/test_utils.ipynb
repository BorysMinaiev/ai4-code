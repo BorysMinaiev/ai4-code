{
 "cells": [
  {
   "cell_type": "code",
   "execution_count": null,
   "metadata": {},
   "outputs": [],
   "source": [
    "from common import clean_html\n",
    "\n",
    "html = \"<h1 style=\\\"background-color:#DC143C; font-family:'Brush Script MT',cursive;color:white;font-size:200%; text-align:center;border-radius: 50% 20% / 10% 40%\\\">NIV in amyotrophic lateral sclerosis: The ‘when’ and ‘how’ of the matter</h1>\"\n",
    "cleaned = clean_html(html)\n",
    "print(cleaned)\n",
    "\n",
    "print(clean_html(\"a < b or a > b?\"))"
   ]
  }
 ],
 "metadata": {
  "kernelspec": {
   "display_name": "Python 3.7.13 ('kaggle')",
   "language": "python",
   "name": "python3"
  },
  "language_info": {
   "codemirror_mode": {
    "name": "ipython",
    "version": 3
   },
   "file_extension": ".py",
   "mimetype": "text/x-python",
   "name": "python",
   "nbconvert_exporter": "python",
   "pygments_lexer": "ipython3",
   "version": "3.7.13"
  },
  "vscode": {
   "interpreter": {
    "hash": "4d4c7731748faf67a6b8ce01c6c5d4488a25691d99afc96e6b91ec13b7fca11a"
   }
  }
 },
 "nbformat": 4,
 "nbformat_minor": 2
}
